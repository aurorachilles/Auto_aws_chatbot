{
 "cells": [
  {
   "cell_type": "markdown",
   "id": "92a124d9ceda9edc",
   "metadata": {
    "collapsed": false
   },
   "source": [
    "This file will create EC2 instances automatically on my AWS"
   ]
  },
  {
   "cell_type": "code",
   "execution_count": 26,
   "id": "34e5687a90b127f8",
   "metadata": {
    "collapsed": false,
    "is_executing": true
   },
   "outputs": [
    {
     "ename": "SyntaxError",
     "evalue": "invalid syntax (2551665306.py, line 2)",
     "output_type": "error",
     "traceback": [
      "\u001b[1;36m  Cell \u001b[1;32mIn[26], line 2\u001b[1;36m\u001b[0m\n\u001b[1;33m    import \"./credentials.py\"\u001b[0m\n\u001b[1;37m           ^\u001b[0m\n\u001b[1;31mSyntaxError\u001b[0m\u001b[1;31m:\u001b[0m invalid syntax\n"
     ]
    }
   ],
   "source": [
    "import boto3\n",
    "import credentials.py"
   ]
  },
  {
   "cell_type": "code",
   "execution_count": 9,
   "id": "ee8e24484eaf575e",
   "metadata": {
    "collapsed": false,
    "is_executing": true
   },
   "outputs": [],
   "source": []
  },
  {
   "cell_type": "code",
   "execution_count": 21,
   "id": "4a42970bd0334423",
   "metadata": {
    "collapsed": false
   },
   "outputs": [],
   "source": [
    "\n",
    "instance_type = 't2.micro'\n",
    "image_id=\"ami-03f4878755434977f\"\n",
    "security_group = \"sg-0137aa7387b9c41fa\""
   ]
  },
  {
   "cell_type": "code",
   "execution_count": 22,
   "id": "078cde7a",
   "metadata": {},
   "outputs": [],
   "source": [
    "ec2 = boto3.client('ec2', region_name=region, aws_access_key_id=aws_secret_id, aws_secret_access_key=aws_secret_key)"
   ]
  },
  {
   "cell_type": "code",
   "execution_count": 24,
   "id": "2416a909",
   "metadata": {},
   "outputs": [],
   "source": [
    "response = ec2.run_instances(\n",
    "    ImageId=image_id,\n",
    "    InstanceType= instance_type,\n",
    "    KeyName='new_gen',\n",
    "    MaxCount = 1,\n",
    "    MinCount = 1\n",
    ")"
   ]
  },
  {
   "cell_type": "code",
   "execution_count": 25,
   "id": "a7f7ba4f",
   "metadata": {},
   "outputs": [
    {
     "name": "stdout",
     "output_type": "stream",
     "text": [
      "Launched EC2 instance with ID: i-0d9a87d98979199f9\n"
     ]
    }
   ],
   "source": [
    "instance_id = response['Instances'][0]['InstanceId']\n",
    "print('Launched EC2 instance with ID:', instance_id)"
   ]
  }
 ],
 "metadata": {
  "kernelspec": {
   "display_name": "Python 3",
   "language": "python",
   "name": "python3"
  },
  "language_info": {
   "codemirror_mode": {
    "name": "ipython",
    "version": 3
   },
   "file_extension": ".py",
   "mimetype": "text/x-python",
   "name": "python",
   "nbconvert_exporter": "python",
   "pygments_lexer": "ipython3",
   "version": "3.9.13"
  }
 },
 "nbformat": 4,
 "nbformat_minor": 5
}
