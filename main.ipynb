{
 "cells": [
  {
   "cell_type": "markdown",
   "id": "92a124d9ceda9edc",
   "metadata": {
    "collapsed": false
   },
   "source": [
    "This file will create EC2 instances automatically on my AWS"
   ]
  },
  {
   "cell_type": "code",
   "execution_count": 10,
   "id": "34e5687a90b127f8",
   "metadata": {
    "collapsed": false,
    "is_executing": true
   },
   "outputs": [],
   "source": [
    "import boto3"
   ]
  },
  {
   "cell_type": "code",
   "execution_count": 11,
   "id": "ee8e24484eaf575e",
   "metadata": {
    "collapsed": false,
    "is_executing": true
   },
   "outputs": [],
   "source": [
    "#this folder will not be found on github. These are my personal credientials to my AWS account\n",
    "from credentials import aws_secret_id,aws_secret_key,region"
   ]
  },
  {
   "cell_type": "code",
   "execution_count": 13,
   "id": "4a42970bd0334423",
   "metadata": {
    "collapsed": false
   },
   "outputs": [],
   "source": [
    "\n",
    "instance_type = 't2.micro'\n",
    "image_id=\"ami-03f4878755434977f\"\n",
    "security_group = \"sg-0137aa7387b9c41fa\""
   ]
  },
  {
   "cell_type": "code",
   "execution_count": 14,
   "id": "078cde7a",
   "metadata": {},
   "outputs": [],
   "source": [
    "ec2 = boto3.client('ec2', region_name=region, aws_access_key_id=aws_secret_id, aws_secret_access_key=aws_secret_key)"
   ]
  },
  {
   "cell_type": "code",
   "execution_count": 17,
   "id": "2416a909",
   "metadata": {},
   "outputs": [],
   "source": [
    "response = ec2.run_instances(\n",
    "    ImageId=image_id,\n",
    "    InstanceType= instance_type,\n",
    "    SecurityGroupIds=['sg-0137aa7387b9c41fa'],\n",
    "    KeyName='new_gen',\n",
    "    MaxCount = 1,\n",
    "    MinCount = 1,  \n",
    "    TagSpecifications=[{\n",
    "        'ResourceType':'instance',\n",
    "        'Tags':[{\n",
    "            'Key':'Name',\n",
    "            'Value':'Auto_Instance'\n",
    "        }]\n",
    "    }]\n",
    ")"
   ]
  },
  {
   "cell_type": "code",
   "execution_count": 18,
   "id": "a7f7ba4f",
   "metadata": {},
   "outputs": [
    {
     "name": "stdout",
     "output_type": "stream",
     "text": [
      "Launched EC2 instance with ID: i-06a5463777f5b7e46\n"
     ]
    }
   ],
   "source": [
    "instance_id = response['Instances'][0]['InstanceId']\n",
    "print('Launched EC2 instance with ID:', instance_id)"
   ]
  }
 ],
 "metadata": {
  "kernelspec": {
   "display_name": "Python 3",
   "language": "python",
   "name": "python3"
  },
  "language_info": {
   "codemirror_mode": {
    "name": "ipython",
    "version": 3
   },
   "file_extension": ".py",
   "mimetype": "text/x-python",
   "name": "python",
   "nbconvert_exporter": "python",
   "pygments_lexer": "ipython3",
   "version": "3.9.13"
  }
 },
 "nbformat": 4,
 "nbformat_minor": 5
}
